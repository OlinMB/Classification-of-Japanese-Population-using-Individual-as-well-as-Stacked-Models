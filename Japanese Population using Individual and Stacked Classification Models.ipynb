{
 "cells": [
  {
   "cell_type": "code",
   "execution_count": 190,
   "id": "96b055b7",
   "metadata": {},
   "outputs": [],
   "source": [
    "import numpy as np\n",
    "import pandas as pd\n",
    "import matplotlib.pyplot as plt\n",
    "import seaborn as sns\n",
    "%matplotlib inline"
   ]
  },
  {
   "cell_type": "code",
   "execution_count": 191,
   "id": "3a706712",
   "metadata": {},
   "outputs": [
    {
     "data": {
      "text/html": [
       "<div>\n",
       "<style scoped>\n",
       "    .dataframe tbody tr th:only-of-type {\n",
       "        vertical-align: middle;\n",
       "    }\n",
       "\n",
       "    .dataframe tbody tr th {\n",
       "        vertical-align: top;\n",
       "    }\n",
       "\n",
       "    .dataframe thead th {\n",
       "        text-align: right;\n",
       "    }\n",
       "</style>\n",
       "<table border=\"1\" class=\"dataframe\">\n",
       "  <thead>\n",
       "    <tr style=\"text-align: right;\">\n",
       "      <th></th>\n",
       "      <th>Unnamed: 0</th>\n",
       "      <th>Year</th>\n",
       "      <th>Prefecture</th>\n",
       "      <th>Age Lower Bound</th>\n",
       "      <th>Age Upper Bound</th>\n",
       "      <th>Gender</th>\n",
       "      <th>Population</th>\n",
       "    </tr>\n",
       "  </thead>\n",
       "  <tbody>\n",
       "    <tr>\n",
       "      <th>0</th>\n",
       "      <td>0</td>\n",
       "      <td>1920</td>\n",
       "      <td>Hokkaido</td>\n",
       "      <td>0</td>\n",
       "      <td>4.0</td>\n",
       "      <td>Male</td>\n",
       "      <td>190044</td>\n",
       "    </tr>\n",
       "    <tr>\n",
       "      <th>1</th>\n",
       "      <td>1</td>\n",
       "      <td>1920</td>\n",
       "      <td>Hokkaido</td>\n",
       "      <td>0</td>\n",
       "      <td>4.0</td>\n",
       "      <td>Female</td>\n",
       "      <td>186632</td>\n",
       "    </tr>\n",
       "    <tr>\n",
       "      <th>2</th>\n",
       "      <td>2</td>\n",
       "      <td>1920</td>\n",
       "      <td>Hokkaido</td>\n",
       "      <td>5</td>\n",
       "      <td>9.0</td>\n",
       "      <td>Male</td>\n",
       "      <td>161814</td>\n",
       "    </tr>\n",
       "    <tr>\n",
       "      <th>3</th>\n",
       "      <td>3</td>\n",
       "      <td>1920</td>\n",
       "      <td>Hokkaido</td>\n",
       "      <td>5</td>\n",
       "      <td>9.0</td>\n",
       "      <td>Female</td>\n",
       "      <td>157556</td>\n",
       "    </tr>\n",
       "    <tr>\n",
       "      <th>4</th>\n",
       "      <td>4</td>\n",
       "      <td>1920</td>\n",
       "      <td>Hokkaido</td>\n",
       "      <td>10</td>\n",
       "      <td>14.0</td>\n",
       "      <td>Male</td>\n",
       "      <td>138018</td>\n",
       "    </tr>\n",
       "  </tbody>\n",
       "</table>\n",
       "</div>"
      ],
      "text/plain": [
       "   Unnamed: 0  Year Prefecture  Age Lower Bound  Age Upper Bound  Gender  \\\n",
       "0           0  1920   Hokkaido                0              4.0    Male   \n",
       "1           1  1920   Hokkaido                0              4.0  Female   \n",
       "2           2  1920   Hokkaido                5              9.0    Male   \n",
       "3           3  1920   Hokkaido                5              9.0  Female   \n",
       "4           4  1920   Hokkaido               10             14.0    Male   \n",
       "\n",
       "   Population  \n",
       "0      190044  \n",
       "1      186632  \n",
       "2      161814  \n",
       "3      157556  \n",
       "4      138018  "
      ]
     },
     "execution_count": 191,
     "metadata": {},
     "output_type": "execute_result"
    }
   ],
   "source": [
    "#import the dataset\n",
    "japan = pd.read_csv('japanese_census.csv')\n",
    "japan.head()"
   ]
  },
  {
   "cell_type": "code",
   "execution_count": 192,
   "id": "79baaff7",
   "metadata": {},
   "outputs": [
    {
     "data": {
      "text/plain": [
       "Unnamed: 0           int64\n",
       "Year                 int64\n",
       "Prefecture          object\n",
       "Age Lower Bound      int64\n",
       "Age Upper Bound    float64\n",
       "Gender              object\n",
       "Population           int64\n",
       "dtype: object"
      ]
     },
     "execution_count": 192,
     "metadata": {},
     "output_type": "execute_result"
    }
   ],
   "source": [
    "#to find the datatype of each feature of the dataset\n",
    "japan.dtypes"
   ]
  },
  {
   "cell_type": "code",
   "execution_count": 193,
   "id": "54254cb9",
   "metadata": {},
   "outputs": [
    {
     "data": {
      "text/plain": [
       "Unnamed: 0            0\n",
       "Year                  0\n",
       "Prefecture            0\n",
       "Age Lower Bound       0\n",
       "Age Upper Bound    1880\n",
       "Gender                0\n",
       "Population            0\n",
       "dtype: int64"
      ]
     },
     "execution_count": 193,
     "metadata": {},
     "output_type": "execute_result"
    }
   ],
   "source": [
    "#to check if there are any null values in the dataset\n",
    "japan.isnull().sum()"
   ]
  },
  {
   "cell_type": "code",
   "execution_count": 194,
   "id": "7f7ddfdf",
   "metadata": {},
   "outputs": [],
   "source": [
    "#to replace the missing values in 'Age Upper Bound' with the mean of the values\n",
    "japan_mean = japan['Age Upper Bound'].mean()\n",
    "japan['Age Upper Bound'].fillna(japan_mean, inplace=True)"
   ]
  },
  {
   "cell_type": "code",
   "execution_count": 195,
   "id": "4a484f7a",
   "metadata": {},
   "outputs": [
    {
     "data": {
      "text/plain": [
       "Unnamed: 0         0\n",
       "Year               0\n",
       "Prefecture         0\n",
       "Age Lower Bound    0\n",
       "Age Upper Bound    0\n",
       "Gender             0\n",
       "Population         0\n",
       "dtype: int64"
      ]
     },
     "execution_count": 195,
     "metadata": {},
     "output_type": "execute_result"
    }
   ],
   "source": [
    "#Recheck the null values after replacement of missing values\n",
    "japan.isnull().sum()"
   ]
  },
  {
   "cell_type": "code",
   "execution_count": 196,
   "id": "e710a232",
   "metadata": {},
   "outputs": [],
   "source": [
    "#to eliminate any unwanted characters that are not recognized, from values in categorical variables\n",
    "japan['Prefecture'] = japan['Prefecture'].str.replace(',', '')\n",
    "japan['Gender'] = japan['Gender'].str.replace(',', '')"
   ]
  },
  {
   "cell_type": "code",
   "execution_count": 197,
   "id": "340d9bf8",
   "metadata": {},
   "outputs": [],
   "source": [
    "#label encoding for categorical variables\n",
    "from sklearn import preprocessing\n",
    "\n",
    "label_encoder = preprocessing.LabelEncoder()\n",
    "\n",
    "japan['Prefecture'] = label_encoder.fit_transform(japan['Prefecture'])\n",
    "japan['Gender'] = label_encoder.fit_transform(japan['Gender'])"
   ]
  },
  {
   "cell_type": "code",
   "execution_count": 198,
   "id": "f3b31a32",
   "metadata": {},
   "outputs": [
    {
     "data": {
      "text/html": [
       "<div>\n",
       "<style scoped>\n",
       "    .dataframe tbody tr th:only-of-type {\n",
       "        vertical-align: middle;\n",
       "    }\n",
       "\n",
       "    .dataframe tbody tr th {\n",
       "        vertical-align: top;\n",
       "    }\n",
       "\n",
       "    .dataframe thead th {\n",
       "        text-align: right;\n",
       "    }\n",
       "</style>\n",
       "<table border=\"1\" class=\"dataframe\">\n",
       "  <thead>\n",
       "    <tr style=\"text-align: right;\">\n",
       "      <th></th>\n",
       "      <th>Unnamed: 0</th>\n",
       "      <th>Year</th>\n",
       "      <th>Prefecture</th>\n",
       "      <th>Age Lower Bound</th>\n",
       "      <th>Age Upper Bound</th>\n",
       "      <th>Gender</th>\n",
       "      <th>Population</th>\n",
       "    </tr>\n",
       "  </thead>\n",
       "  <tbody>\n",
       "    <tr>\n",
       "      <th>0</th>\n",
       "      <td>0</td>\n",
       "      <td>1920</td>\n",
       "      <td>10</td>\n",
       "      <td>0</td>\n",
       "      <td>4.0</td>\n",
       "      <td>1</td>\n",
       "      <td>190044</td>\n",
       "    </tr>\n",
       "    <tr>\n",
       "      <th>1</th>\n",
       "      <td>1</td>\n",
       "      <td>1920</td>\n",
       "      <td>10</td>\n",
       "      <td>0</td>\n",
       "      <td>4.0</td>\n",
       "      <td>0</td>\n",
       "      <td>186632</td>\n",
       "    </tr>\n",
       "    <tr>\n",
       "      <th>2</th>\n",
       "      <td>2</td>\n",
       "      <td>1920</td>\n",
       "      <td>10</td>\n",
       "      <td>5</td>\n",
       "      <td>9.0</td>\n",
       "      <td>1</td>\n",
       "      <td>161814</td>\n",
       "    </tr>\n",
       "    <tr>\n",
       "      <th>3</th>\n",
       "      <td>3</td>\n",
       "      <td>1920</td>\n",
       "      <td>10</td>\n",
       "      <td>5</td>\n",
       "      <td>9.0</td>\n",
       "      <td>0</td>\n",
       "      <td>157556</td>\n",
       "    </tr>\n",
       "    <tr>\n",
       "      <th>4</th>\n",
       "      <td>4</td>\n",
       "      <td>1920</td>\n",
       "      <td>10</td>\n",
       "      <td>10</td>\n",
       "      <td>14.0</td>\n",
       "      <td>1</td>\n",
       "      <td>138018</td>\n",
       "    </tr>\n",
       "  </tbody>\n",
       "</table>\n",
       "</div>"
      ],
      "text/plain": [
       "   Unnamed: 0  Year  Prefecture  Age Lower Bound  Age Upper Bound  Gender  \\\n",
       "0           0  1920          10                0              4.0       1   \n",
       "1           1  1920          10                0              4.0       0   \n",
       "2           2  1920          10                5              9.0       1   \n",
       "3           3  1920          10                5              9.0       0   \n",
       "4           4  1920          10               10             14.0       1   \n",
       "\n",
       "   Population  \n",
       "0      190044  \n",
       "1      186632  \n",
       "2      161814  \n",
       "3      157556  \n",
       "4      138018  "
      ]
     },
     "execution_count": 198,
     "metadata": {},
     "output_type": "execute_result"
    }
   ],
   "source": [
    "japan.head()"
   ]
  },
  {
   "cell_type": "code",
   "execution_count": 199,
   "id": "b795f806",
   "metadata": {},
   "outputs": [],
   "source": [
    "#split the dataset into independent features and dependent feature\n",
    "X = japan[['Year', 'Prefecture', 'Age Lower Bound', 'Age Upper Bound', 'Population']]\n",
    "y = japan[['Gender']]"
   ]
  },
  {
   "cell_type": "code",
   "execution_count": 200,
   "id": "a9e22a0d",
   "metadata": {},
   "outputs": [
    {
     "name": "stdout",
     "output_type": "stream",
     "text": [
      "(16727, 7) (16727, 7)\n"
     ]
    }
   ],
   "source": [
    "#Get the male and female classes count in the dataset, since this is a dataset of binary classification\n",
    "Female = japan[japan['Gender']==1]\n",
    "Male = japan[japan['Gender']==0]\n",
    "\n",
    "print(Female.shape, Male.shape)"
   ]
  },
  {
   "cell_type": "markdown",
   "id": "4606d9d0",
   "metadata": {},
   "source": [
    "Since the number of males and females are equal, the dataset is balanced"
   ]
  },
  {
   "cell_type": "code",
   "execution_count": 201,
   "id": "5669555c",
   "metadata": {},
   "outputs": [
    {
     "data": {
      "text/plain": [
       "<AxesSubplot:>"
      ]
     },
     "execution_count": 201,
     "metadata": {},
     "output_type": "execute_result"
    },
    {
     "data": {
      "image/png": "[encoded data removed]",
      "text/plain": [
       "<Figure size 432x288 with 2 Axes>"
      ]
     },
     "metadata": {
      "needs_background": "light"
     },
     "output_type": "display_data"
    }
   ],
   "source": [
    "sns.heatmap(japan.corr())"
   ]
  },
  {
   "cell_type": "code",
   "execution_count": 209,
   "id": "6434c056",
   "metadata": {},
   "outputs": [],
   "source": [
    "#Split the dataset into training and testing dataset\n",
    "from sklearn.model_selection import train_test_split\n",
    "X_train, X_test, y_train, y_test = train_test_split(X, y, test_size = 0.5, random_state=1)"
   ]
  },
  {
   "cell_type": "code",
   "execution_count": 210,
   "id": "30be54da",
   "metadata": {},
   "outputs": [],
   "source": [
    "#import the modules for the models to be evaluated, both individually as well as stacked\n",
    "from numpy import mean, std\n",
    "from sklearn.preprocessing import StandardScaler\n",
    "from sklearn.datasets import make_classification\n",
    "from sklearn.model_selection import cross_val_score, RepeatedStratifiedKFold\n",
    "from sklearn.linear_model import LogisticRegression\n",
    "from sklearn.neighbors import KNeighborsClassifier\n",
    "from sklearn.ensemble import RandomForestClassifier, StackingClassifier\n",
    "from sklearn.naive_bayes import GaussianNB\n",
    "from sklearn.tree import DecisionTreeClassifier\n",
    "from sklearn.svm import SVC"
   ]
  },
  {
   "cell_type": "code",
   "execution_count": 211,
   "id": "09cc5931",
   "metadata": {},
   "outputs": [],
   "source": [
    "#Perform Standard Normalization on the dataset\n",
    "model = StandardScaler().fit(X, y)"
   ]
  },
  {
   "cell_type": "code",
   "execution_count": 212,
   "id": "8fdcdcd5",
   "metadata": {},
   "outputs": [],
   "source": [
    "#stacking ensemble of models\n",
    "def get_stacking():\n",
    "    #define the base models\n",
    "    level0 = list()\n",
    "    level0.append(('knn', KNeighborsClassifier()))\n",
    "    level0.append(('svm', SVC()))\n",
    "    level0.append(('dt', DecisionTreeClassifier()))\n",
    "    level0.append(('bayes', GaussianNB()))\n",
    "    #define meta learner model\n",
    "    level1 = LogisticRegression()\n",
    "    \n",
    "    #define Stacking Ensemble\n",
    "    model = StackingClassifier(estimators=level0, final_estimator=level1, cv=5)\n",
    "    \n",
    "    return model"
   ]
  },
  {
   "cell_type": "code",
   "execution_count": 213,
   "id": "89a6a4da",
   "metadata": {},
   "outputs": [],
   "source": [
    "#define a function that initializes the objects of the list of models to evaluate. \n",
    "def get_models():\n",
    "    models = dict()\n",
    "    models['lr'] = LogisticRegression()\n",
    "    models['knn'] = KNeighborsClassifier()\n",
    "    models['rc'] = DecisionTreeClassifier()\n",
    "    models['bayes'] = GaussianNB()\n",
    "    models['svm'] = SVC()\n",
    "    models['stacking'] = get_stacking()\n",
    "    \n",
    "    return models"
   ]
  },
  {
   "cell_type": "code",
   "execution_count": 214,
   "id": "f8af9227",
   "metadata": {},
   "outputs": [],
   "source": [
    "#Evaluate a model using cross-validation\n",
    "def evaluate_model(model, X, y):\n",
    "    cv = RepeatedStratifiedKFold(n_splits=10, n_repeats=3, random_state=1)\n",
    "    scores = cross_val_score(model, X, y, scoring='accuracy', cv=cv, n_jobs=-1, error_score='raise')\n",
    "    return scores"
   ]
  },
  {
   "cell_type": "code",
   "execution_count": 215,
   "id": "b5bf13ec",
   "metadata": {},
   "outputs": [],
   "source": [
    "models = get_models()"
   ]
  },
  {
   "cell_type": "code",
   "execution_count": 216,
   "id": "7a60fdba",
   "metadata": {},
   "outputs": [
    {
     "name": "stdout",
     "output_type": "stream",
     "text": [
      ">lr 0.514(0.013)\n",
      ">knn 0.504(0.011)\n",
      ">rc 0.508(0.015)\n",
      ">bayes 0.505(0.011)\n",
      ">svm 0.526(0.010)\n",
      ">stacking 0.518(0.012)\n"
     ]
    }
   ],
   "source": [
    "#to find the mean and standard deviation of individual models to find the models that are least correlated with each other\n",
    "results, names = list(), list()\n",
    "for name, model in models.items():\n",
    "    scores = evaluate_model(model, X_train, y_train)\n",
    "    results.append(scores)\n",
    "    names.append(name)\n",
    "    print('>%s %.3f(%.3f)' %(name, mean(scores), std(scores)))"
   ]
  },
  {
   "cell_type": "code",
   "execution_count": 217,
   "id": "0151a897",
   "metadata": {},
   "outputs": [
    {
     "data": {
      "image/png": "[encoded data removed]",
      "text/plain": [
       "<Figure size 432x288 with 1 Axes>"
      ]
     },
     "metadata": {
      "needs_background": "light"
     },
     "output_type": "display_data"
    }
   ],
   "source": [
    "#plotting model performance for comparison\n",
    "plt.boxplot(results, labels=names, showmeans=True)\n",
    "plt.show()"
   ]
  },
  {
   "cell_type": "markdown",
   "id": "ce920473",
   "metadata": {},
   "source": [
    "### Model Evaluation\n",
    "\n",
    "to find the roc-auc score of each individual model, as well as the stacked model"
   ]
  },
  {
   "cell_type": "code",
   "execution_count": 218,
   "id": "03d3c4a3",
   "metadata": {},
   "outputs": [],
   "source": [
    "from sklearn.metrics import roc_curve, roc_auc_score"
   ]
  },
  {
   "cell_type": "code",
   "execution_count": 219,
   "id": "43260790",
   "metadata": {},
   "outputs": [
    {
     "name": "stderr",
     "output_type": "stream",
     "text": [
      "C:\\ProgramData\\Anaconda3\\lib\\site-packages\\sklearn\\utils\\validation.py:63: DataConversionWarning: A column-vector y was passed when a 1d array was expected. Please change the shape of y to (n_samples, ), for example using ravel().\n",
      "  return f(*args, **kwargs)\n",
      "C:\\ProgramData\\Anaconda3\\lib\\site-packages\\sklearn\\neighbors\\_classification.py:179: DataConversionWarning: A column-vector y was passed when a 1d array was expected. Please change the shape of y to (n_samples,), for example using ravel().\n",
      "  return self._fit(X, y)\n",
      "C:\\ProgramData\\Anaconda3\\lib\\site-packages\\sklearn\\utils\\validation.py:63: DataConversionWarning: A column-vector y was passed when a 1d array was expected. Please change the shape of y to (n_samples, ), for example using ravel().\n",
      "  return f(*args, **kwargs)\n",
      "C:\\ProgramData\\Anaconda3\\lib\\site-packages\\sklearn\\utils\\validation.py:63: DataConversionWarning: A column-vector y was passed when a 1d array was expected. Please change the shape of y to (n_samples, ), for example using ravel().\n",
      "  return f(*args, **kwargs)\n",
      "C:\\ProgramData\\Anaconda3\\lib\\site-packages\\sklearn\\utils\\validation.py:63: DataConversionWarning: A column-vector y was passed when a 1d array was expected. Please change the shape of y to (n_samples, ), for example using ravel().\n",
      "  return f(*args, **kwargs)\n"
     ]
    }
   ],
   "source": [
    "models['lr'] = LogisticRegression().fit(X_train, y_train)\n",
    "models['knn'] = KNeighborsClassifier().fit(X_train, y_train)\n",
    "models['rc'] = DecisionTreeClassifier().fit(X_train, y_train)\n",
    "models['bayes'] = GaussianNB().fit(X_train, y_train)\n",
    "models['svm'] = SVC().fit(X_train, y_train)\n",
    "models['stacking'] = get_stacking().fit(X_train, y_train)\n",
    "\n",
    "#logistic regression\n",
    "ytrain_pred_lr = models['lr'].predict_proba(X_train)\n",
    "ytest_pred_lr = models['lr'].predict_proba(X_test)\n",
    "\n",
    "#knn classifier\n",
    "ytrain_pred_knn = models['knn'].predict_proba(X_train)\n",
    "ytest_pred_knn = models['knn'].predict_proba(X_test)\n",
    "\n",
    "#decision tree classifier\n",
    "ytrain_pred_dt = models['rc'].predict_proba(X_train)\n",
    "ytest_pred_dt = models['rc'].predict_proba(X_test)\n",
    "\n",
    "#Naive Bayes CLassifier\n",
    "ytrain_pred_bayes = models['bayes'].predict_proba(X_train)\n",
    "ytest_pred_bayes = models['bayes'].predict_proba(X_test)\n",
    "\n",
    "#stacked models\n",
    "ytrain_pred_stacking= models['stacking'].predict_proba(X_train)\n",
    "ytest_pred_stacking = models['stacking'].predict_proba(X_test)"
   ]
  },
  {
   "cell_type": "code",
   "execution_count": 220,
   "id": "f5fd6137",
   "metadata": {},
   "outputs": [
    {
     "name": "stdout",
     "output_type": "stream",
     "text": [
      "RF train roc-auc: 0.5291505444695863\n",
      "RF test roc-auc: 0.5269242287664925\n"
     ]
    }
   ],
   "source": [
    "#Logistic Regression\n",
    "print('RF train roc-auc: {}'.format(roc_auc_score(y_train, ytrain_pred_lr[:, 1])))\n",
    "print('RF test roc-auc: {}'.format(roc_auc_score(y_test, ytest_pred_lr[:, 1])))"
   ]
  },
  {
   "cell_type": "code",
   "execution_count": 221,
   "id": "313bbb03",
   "metadata": {},
   "outputs": [
    {
     "name": "stdout",
     "output_type": "stream",
     "text": [
      "RF train roc-auc: 0.75173009047454\n",
      "RF test roc-auc: 0.5109790439411085\n"
     ]
    }
   ],
   "source": [
    "#K-Nearest Neighbors Classifier\n",
    "print('RF train roc-auc: {}'.format(roc_auc_score(y_train, ytrain_pred_knn[:, 1])))\n",
    "print('RF test roc-auc: {}'.format(roc_auc_score(y_test, ytest_pred_knn[:, 1])))"
   ]
  },
  {
   "cell_type": "code",
   "execution_count": 222,
   "id": "2f92aab1",
   "metadata": {},
   "outputs": [
    {
     "name": "stdout",
     "output_type": "stream",
     "text": [
      "RF train roc-auc: 0.9999999928518406\n",
      "RF test roc-auc: 0.5084676667875754\n"
     ]
    }
   ],
   "source": [
    "#Decision Trees Classifier\n",
    "print('RF train roc-auc: {}'.format(roc_auc_score(y_train, ytrain_pred_dt[:, 1])))\n",
    "print('RF test roc-auc: {}'.format(roc_auc_score(y_test, ytest_pred_dt[:, 1])))"
   ]
  },
  {
   "cell_type": "code",
   "execution_count": 223,
   "id": "dbe52ae4",
   "metadata": {},
   "outputs": [
    {
     "name": "stdout",
     "output_type": "stream",
     "text": [
      "RF train roc-auc: 0.5232976458137318\n",
      "RF test roc-auc: 0.5101718022951768\n"
     ]
    }
   ],
   "source": [
    "#Naive-Bayes Classification\n",
    "print('RF train roc-auc: {}'.format(roc_auc_score(y_train, ytrain_pred_bayes[:, 1])))\n",
    "print('RF test roc-auc: {}'.format(roc_auc_score(y_test, ytest_pred_bayes[:, 1])))"
   ]
  },
  {
   "cell_type": "code",
   "execution_count": 224,
   "id": "d1d20f5c",
   "metadata": {},
   "outputs": [
    {
     "name": "stdout",
     "output_type": "stream",
     "text": [
      "RF train roc-auc: 0.6800609140414384\n",
      "RF test roc-auc: 0.5256542295745203\n"
     ]
    }
   ],
   "source": [
    "#Stacked Model\n",
    "print('RF train roc-auc: {}'.format(roc_auc_score(y_train, ytrain_pred_stacking[:, 1])))\n",
    "print('RF test roc-auc: {}'.format(roc_auc_score(y_test, ytest_pred_stacking[:, 1])))"
   ]
  },
  {
   "cell_type": "code",
   "execution_count": null,
   "id": "a768b18c",
   "metadata": {},
   "outputs": [],
   "source": []
  }
 ],
 "metadata": {
  "kernelspec": {
   "display_name": "Python 3",
   "language": "python",
   "name": "python3"
  }
 },
 "nbformat": 4,
 "nbformat_minor": 5
}
